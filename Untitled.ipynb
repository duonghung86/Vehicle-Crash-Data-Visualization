{
 "cells": [
  {
   "cell_type": "code",
   "execution_count": 6,
   "metadata": {},
   "outputs": [],
   "source": [
    "import pandas as pd\n",
    "import pyreadstat as prs"
   ]
  },
  {
   "cell_type": "code",
   "execution_count": 14,
   "metadata": {},
   "outputs": [
    {
     "ename": "ReadstatError",
     "evalue": "Invalid file, or file has unsupported features",
     "output_type": "error",
     "traceback": [
      "\u001b[1;31m---------------------------------------------------------------------------\u001b[0m",
      "\u001b[1;31mReadstatError\u001b[0m                             Traceback (most recent call last)",
      "\u001b[1;32m<ipython-input-14-0464e10d13bd>\u001b[0m in \u001b[0;36m<module>\u001b[1;34m\u001b[0m\n\u001b[1;32m----> 1\u001b[1;33m \u001b[0mprs\u001b[0m\u001b[1;33m.\u001b[0m\u001b[0mread_sas7bdat\u001b[0m\u001b[1;33m(\u001b[0m\u001b[1;34m'.\\Datasets\\\\2012\\\\formats.sas7bcat'\u001b[0m\u001b[1;33m)\u001b[0m\u001b[1;33m\u001b[0m\u001b[1;33m\u001b[0m\u001b[0m\n\u001b[0m",
      "\u001b[1;32mpyreadstat\\pyreadstat.pyx\u001b[0m in \u001b[0;36mpyreadstat.pyreadstat.read_sas7bdat\u001b[1;34m()\u001b[0m\n",
      "\u001b[1;32mpyreadstat\\_readstat_parser.pyx\u001b[0m in \u001b[0;36mpyreadstat._readstat_parser.run_conversion\u001b[1;34m()\u001b[0m\n",
      "\u001b[1;32mpyreadstat\\_readstat_parser.pyx\u001b[0m in \u001b[0;36mpyreadstat._readstat_parser.run_readstat_parser\u001b[1;34m()\u001b[0m\n",
      "\u001b[1;32mpyreadstat\\_readstat_parser.pyx\u001b[0m in \u001b[0;36mpyreadstat._readstat_parser.check_exit_status\u001b[1;34m()\u001b[0m\n",
      "\u001b[1;31mReadstatError\u001b[0m: Invalid file, or file has unsupported features"
     ]
    }
   ],
   "source": [
    "prs.read_sas7bdat('.\\Datasets\\\\2012\\\\formats.sas7bcat')"
   ]
  },
  {
   "cell_type": "code",
   "execution_count": 15,
   "metadata": {},
   "outputs": [
    {
     "data": {
      "text/plain": [
       "(       STATE   ST_CASE  VE_TOTAL  VE_FORMS  PVH_INVL  PEDS  PERNOTMVIT  \\\n",
       " 0        1.0   10001.0       1.0       1.0       0.0   0.0         0.0   \n",
       " 1        1.0   10002.0       2.0       1.0       1.0   0.0         0.0   \n",
       " 2        1.0   10003.0       1.0       1.0       0.0   0.0         0.0   \n",
       " 3        1.0   10004.0       2.0       2.0       0.0   0.0         0.0   \n",
       " 4        1.0   10005.0       1.0       1.0       0.0   0.0         0.0   \n",
       " ...      ...       ...       ...       ...       ...   ...         ...   \n",
       " 31001   56.0  560109.0       1.0       1.0       0.0   0.0         0.0   \n",
       " 31002   56.0  560110.0       1.0       1.0       0.0   0.0         0.0   \n",
       " 31003   56.0  560111.0       2.0       2.0       0.0   0.0         0.0   \n",
       " 31004   56.0  560112.0       2.0       2.0       0.0   0.0         0.0   \n",
       " 31005   56.0  560113.0       2.0       2.0       0.0   0.0         0.0   \n",
       " \n",
       "        PERMVIT  PERSONS  COUNTY  ...  NOT_MIN  ARR_HOUR  ARR_MIN  HOSP_HR  \\\n",
       " 0          2.0      2.0    81.0  ...     99.0      20.0     38.0     99.0   \n",
       " 1          1.0      1.0    83.0  ...     99.0      13.0     45.0     99.0   \n",
       " 2          6.0      6.0   105.0  ...     99.0       2.0     25.0     99.0   \n",
       " 3          5.0      5.0    81.0  ...     99.0      15.0     21.0     99.0   \n",
       " 4          1.0      1.0    77.0  ...     99.0       8.0      0.0     88.0   \n",
       " ...        ...      ...     ...  ...      ...       ...      ...      ...   \n",
       " 31001      1.0      1.0    13.0  ...     13.0       7.0     31.0      7.0   \n",
       " 31002      2.0      2.0     7.0  ...      4.0       2.0     14.0      3.0   \n",
       " 31003      4.0      4.0     0.0  ...     99.0      99.0     99.0     99.0   \n",
       " 31004      2.0      2.0     0.0  ...     99.0      99.0     99.0     99.0   \n",
       " 31005      9.0      9.0     0.0  ...     99.0      99.0     99.0     99.0   \n",
       " \n",
       "        HOSP_MN  CF1  CF2  CF3  FATALS  DRUNK_DR  \n",
       " 0         99.0  0.0  0.0  0.0     1.0       1.0  \n",
       " 1         99.0  0.0  0.0  0.0     1.0       0.0  \n",
       " 2         99.0  0.0  0.0  0.0     1.0       0.0  \n",
       " 3         99.0  0.0  0.0  0.0     1.0       0.0  \n",
       " 4         88.0  0.0  0.0  0.0     1.0       0.0  \n",
       " ...        ...  ...  ...  ...     ...       ...  \n",
       " 31001     58.0  0.0  0.0  0.0     1.0       0.0  \n",
       " 31002     29.0  0.0  0.0  0.0     1.0       1.0  \n",
       " 31003     99.0  0.0  0.0  0.0     1.0       0.0  \n",
       " 31004     99.0  0.0  0.0  0.0     1.0       0.0  \n",
       " 31005     99.0  0.0  0.0  0.0     1.0       0.0  \n",
       " \n",
       " [31006 rows x 50 columns],\n",
       " <pyreadstat._readstat_parser.metadata_container at 0x208f6707548>)"
      ]
     },
     "execution_count": 15,
     "metadata": {},
     "output_type": "execute_result"
    }
   ],
   "source": [
    "prs.read_sas7bdat('.\\Datasets\\\\2012\\\\accident.sas7bdat')"
   ]
  },
  {
   "cell_type": "code",
   "execution_count": 16,
   "metadata": {},
   "outputs": [
    {
     "ename": "ReadstatError",
     "evalue": "Unable to allocate memory",
     "output_type": "error",
     "traceback": [
      "\u001b[1;31m---------------------------------------------------------------------------\u001b[0m",
      "\u001b[1;31mReadstatError\u001b[0m                             Traceback (most recent call last)",
      "\u001b[1;32m<ipython-input-16-9d6a4d432778>\u001b[0m in \u001b[0;36m<module>\u001b[1;34m\u001b[0m\n\u001b[1;32m----> 1\u001b[1;33m \u001b[0mprs\u001b[0m\u001b[1;33m.\u001b[0m\u001b[0mread_sas7bdat\u001b[0m\u001b[1;33m(\u001b[0m\u001b[1;34m'.\\Datasets\\\\2012\\\\accident.sas7bdat'\u001b[0m\u001b[1;33m,\u001b[0m \u001b[0mcatalog_file\u001b[0m\u001b[1;33m=\u001b[0m\u001b[1;34m'.\\Datasets\\\\2012\\\\formats.sas7bcat'\u001b[0m\u001b[1;33m,\u001b[0m \u001b[0mformats_as_category\u001b[0m\u001b[1;33m=\u001b[0m\u001b[1;32mTrue\u001b[0m\u001b[1;33m)\u001b[0m\u001b[1;33m[\u001b[0m\u001b[1;36m0\u001b[0m\u001b[1;33m]\u001b[0m\u001b[1;33m\u001b[0m\u001b[1;33m\u001b[0m\u001b[0m\n\u001b[0m",
      "\u001b[1;32mpyreadstat\\pyreadstat.pyx\u001b[0m in \u001b[0;36mpyreadstat.pyreadstat.read_sas7bdat\u001b[1;34m()\u001b[0m\n",
      "\u001b[1;32mpyreadstat\\pyreadstat.pyx\u001b[0m in \u001b[0;36mpyreadstat.pyreadstat.read_sas7bcat\u001b[1;34m()\u001b[0m\n",
      "\u001b[1;32mpyreadstat\\_readstat_parser.pyx\u001b[0m in \u001b[0;36mpyreadstat._readstat_parser.run_conversion\u001b[1;34m()\u001b[0m\n",
      "\u001b[1;32mpyreadstat\\_readstat_parser.pyx\u001b[0m in \u001b[0;36mpyreadstat._readstat_parser.run_readstat_parser\u001b[1;34m()\u001b[0m\n",
      "\u001b[1;32mpyreadstat\\_readstat_parser.pyx\u001b[0m in \u001b[0;36mpyreadstat._readstat_parser.check_exit_status\u001b[1;34m()\u001b[0m\n",
      "\u001b[1;31mReadstatError\u001b[0m: Unable to allocate memory"
     ]
    }
   ],
   "source": [
    "prs.read_sas7bdat('.\\Datasets\\\\2012\\\\accident.sas7bdat', catalog_file='.\\Datasets\\\\2012\\\\formats.sas7bcat', formats_as_category=True)[0]"
   ]
  }
 ],
 "metadata": {
  "kernelspec": {
   "display_name": "Python 3",
   "language": "python",
   "name": "python3"
  },
  "language_info": {
   "codemirror_mode": {
    "name": "ipython",
    "version": 3
   },
   "file_extension": ".py",
   "mimetype": "text/x-python",
   "name": "python",
   "nbconvert_exporter": "python",
   "pygments_lexer": "ipython3",
   "version": "3.7.7"
  }
 },
 "nbformat": 4,
 "nbformat_minor": 4
}
