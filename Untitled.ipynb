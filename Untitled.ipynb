{
 "cells": [
  {
   "cell_type": "code",
   "execution_count": 3,
   "metadata": {},
   "outputs": [],
   "source": [
    "import pandas as pd\n",
    "import pyreadstat as prs"
   ]
  },
  {
   "cell_type": "code",
   "execution_count": 4,
   "metadata": {},
   "outputs": [
    {
     "data": {
      "text/plain": [
       "(Empty DataFrame\n",
       " Columns: []\n",
       " Index: [],\n",
       " <pyreadstat._readstat_parser.metadata_container at 0x128e9c9ae88>)"
      ]
     },
     "execution_count": 4,
     "metadata": {},
     "output_type": "execute_result"
    }
   ],
   "source": [
    "prs.read_sas7bcat('formats.sas7bcat')"
   ]
  },
  {
   "cell_type": "code",
   "execution_count": 5,
   "metadata": {},
   "outputs": [
    {
     "data": {
      "text/plain": [
       "(       STATE   ST_CASE  VE_TOTAL  VE_FORMS  PVH_INVL  PEDS  PERNOTMVIT  \\\n",
       " 0        1.0   10001.0       2.0       1.0       1.0   0.0         0.0   \n",
       " 1        1.0   10002.0       1.0       1.0       0.0   0.0         0.0   \n",
       " 2        1.0   10003.0       2.0       2.0       0.0   0.0         0.0   \n",
       " 3        1.0   10004.0       1.0       1.0       0.0   0.0         0.0   \n",
       " 4        1.0   10005.0       2.0       2.0       0.0   0.0         0.0   \n",
       " ...      ...       ...       ...       ...       ...   ...         ...   \n",
       " 33649   56.0  560097.0       1.0       1.0       0.0   0.0         0.0   \n",
       " 33650   56.0  560098.0       2.0       2.0       0.0   0.0         0.0   \n",
       " 33651   56.0  560099.0       1.0       1.0       0.0   0.0         0.0   \n",
       " 33652   56.0  560100.0       1.0       1.0       0.0   0.0         0.0   \n",
       " 33653   56.0  560101.0       2.0       2.0       0.0   0.0         0.0   \n",
       " \n",
       "        PERMVIT  PERSONS  COUNTY  ...  NOT_MIN  ARR_HOUR  ARR_MIN  HOSP_HR  \\\n",
       " 0          1.0      1.0   121.0  ...     99.0       6.0     15.0     88.0   \n",
       " 1          2.0      2.0   127.0  ...     99.0       0.0     59.0     88.0   \n",
       " 2          2.0      2.0    21.0  ...     99.0      23.0     10.0     99.0   \n",
       " 3          2.0      2.0     3.0  ...     99.0      13.0     14.0     88.0   \n",
       " 4          2.0      2.0    73.0  ...     99.0       7.0     28.0     88.0   \n",
       " ...        ...      ...     ...  ...      ...       ...      ...      ...   \n",
       " 33649      1.0      1.0    13.0  ...     50.0       3.0      0.0      3.0   \n",
       " 33650      2.0      2.0    27.0  ...     47.0      10.0     58.0     11.0   \n",
       " 33651      1.0      1.0     1.0  ...     88.0      88.0     88.0     88.0   \n",
       " 33652      2.0      2.0    13.0  ...     99.0      99.0     99.0     99.0   \n",
       " 33653      2.0      2.0    13.0  ...     99.0      99.0     99.0     88.0   \n",
       " \n",
       "        HOSP_MN   CF1  CF2  CF3  FATALS  DRUNK_DR  \n",
       " 0         88.0   0.0  0.0  0.0     1.0       0.0  \n",
       " 1         88.0  20.0  0.0  0.0     2.0       0.0  \n",
       " 2         99.0   0.0  0.0  0.0     1.0       0.0  \n",
       " 3         88.0   0.0  0.0  0.0     1.0       0.0  \n",
       " 4         88.0   0.0  0.0  0.0     1.0       0.0  \n",
       " ...        ...   ...  ...  ...     ...       ...  \n",
       " 33649     26.0   0.0  0.0  0.0     1.0       1.0  \n",
       " 33650     43.0   0.0  0.0  0.0     1.0       0.0  \n",
       " 33651     88.0   0.0  0.0  0.0     1.0       0.0  \n",
       " 33652     99.0   0.0  0.0  0.0     1.0       1.0  \n",
       " 33653     88.0   0.0  0.0  0.0     1.0       1.0  \n",
       " \n",
       " [33654 rows x 52 columns],\n",
       " <pyreadstat._readstat_parser.metadata_container at 0x128ee476e48>)"
      ]
     },
     "execution_count": 5,
     "metadata": {},
     "output_type": "execute_result"
    }
   ],
   "source": [
    "prs.read_sas7bdat('accident.sas7bdat')"
   ]
  },
  {
   "cell_type": "code",
   "execution_count": 7,
   "metadata": {},
   "outputs": [
    {
     "data": {
      "text/plain": [
       "(         STATE   ST_CASE  VE_TOTAL  VE_FORMS  PVH_INVL  PEDS  PERNOTMVIT  \\\n",
       " 0      Alabama   10001.0       2.0       1.0       1.0   0.0         0.0   \n",
       " 1      Alabama   10002.0       1.0       1.0       0.0   0.0         0.0   \n",
       " 2      Alabama   10003.0       2.0       2.0       0.0   0.0         0.0   \n",
       " 3      Alabama   10004.0       1.0       1.0       0.0   0.0         0.0   \n",
       " 4      Alabama   10005.0       2.0       2.0       0.0   0.0         0.0   \n",
       " ...        ...       ...       ...       ...       ...   ...         ...   \n",
       " 33649  Wyoming  560097.0       1.0       1.0       0.0   0.0         0.0   \n",
       " 33650  Wyoming  560098.0       2.0       2.0       0.0   0.0         0.0   \n",
       " 33651  Wyoming  560099.0       1.0       1.0       0.0   0.0         0.0   \n",
       " 33652  Wyoming  560100.0       1.0       1.0       0.0   0.0         0.0   \n",
       " 33653  Wyoming  560101.0       2.0       2.0       0.0   0.0         0.0   \n",
       " \n",
       "        PERMVIT  PERSONS  COUNTY  ...                        NOT_MIN  \\\n",
       " 0          1.0      1.0   121.0  ...                        Unknown   \n",
       " 1          2.0      2.0   127.0  ...                        Unknown   \n",
       " 2          2.0      2.0    21.0  ...                        Unknown   \n",
       " 3          2.0      2.0     3.0  ...                        Unknown   \n",
       " 4          2.0      2.0    73.0  ...                        Unknown   \n",
       " ...        ...      ...     ...  ...                            ...   \n",
       " 33649      1.0      1.0    13.0  ...                             50   \n",
       " 33650      2.0      2.0    27.0  ...                             47   \n",
       " 33651      1.0      1.0     1.0  ...  Not Applicable (Not Notified)   \n",
       " 33652      2.0      2.0    13.0  ...                        Unknown   \n",
       " 33653      2.0      2.0    13.0  ...                        Unknown   \n",
       " \n",
       "                              ARR_HOUR                            ARR_MIN  \\\n",
       " 0                       6:00am-6:59am                                 15   \n",
       " 1                       0:00am-0:59am                                 59   \n",
       " 2                     11:00pm-11:59pm                                 10   \n",
       " 3                       1:00pm-1:59pm                                 14   \n",
       " 4                       7:00am-7:59am                                 28   \n",
       " ...                               ...                                ...   \n",
       " 33649                   3:00am-3:59am                                  0   \n",
       " 33650                 10:00am-10:59am                                 58   \n",
       " 33651                  Not Applicable                     Not Applicable   \n",
       " 33652  Unknown EMS Scene Arrival Hour  Unknown EMS Scene Arrival Minutes   \n",
       " 33653  Unknown EMS Scene Arrival Hour  Unknown EMS Scene Arrival Minutes   \n",
       " \n",
       "                                 HOSP_HR                            HOSP_MN  \\\n",
       " 0      Not Applicable (Not Transported)   Not Applicable (Not Transported)   \n",
       " 1      Not Applicable (Not Transported)   Not Applicable (Not Transported)   \n",
       " 2                               Unknown  Unknown EMS Hospital Arrival Time   \n",
       " 3      Not Applicable (Not Transported)   Not Applicable (Not Transported)   \n",
       " 4      Not Applicable (Not Transported)   Not Applicable (Not Transported)   \n",
       " ...                                 ...                                ...   \n",
       " 33649                     3:00am-3:59am                                 26   \n",
       " 33650                   11:00am-11:59am                                 43   \n",
       " 33651  Not Applicable (Not Transported)   Not Applicable (Not Transported)   \n",
       " 33652                           Unknown  Unknown EMS Hospital Arrival Time   \n",
       " 33653  Not Applicable (Not Transported)   Not Applicable (Not Transported)   \n",
       " \n",
       "                            CF1   CF2   CF3 FATALS DRUNK_DR  \n",
       " 0                         None  None  None    1.0      0.0  \n",
       " 1      Police Pursuit Involved  None  None    2.0      0.0  \n",
       " 2                         None  None  None    1.0      0.0  \n",
       " 3                         None  None  None    1.0      0.0  \n",
       " 4                         None  None  None    1.0      0.0  \n",
       " ...                        ...   ...   ...    ...      ...  \n",
       " 33649                     None  None  None    1.0      1.0  \n",
       " 33650                     None  None  None    1.0      0.0  \n",
       " 33651                     None  None  None    1.0      0.0  \n",
       " 33652                     None  None  None    1.0      1.0  \n",
       " 33653                     None  None  None    1.0      1.0  \n",
       " \n",
       " [33654 rows x 52 columns],\n",
       " <pyreadstat._readstat_parser.metadata_container at 0x128e6443948>)"
      ]
     },
     "execution_count": 7,
     "metadata": {},
     "output_type": "execute_result"
    }
   ],
   "source": [
    "prs.read_sas7bdat('accident.sas7bdat', catalog_file='formats.sas7bcat', formats_as_category=True)"
   ]
  }
 ],
 "metadata": {
  "kernelspec": {
   "display_name": "Python 3",
   "language": "python",
   "name": "python3"
  },
  "language_info": {
   "codemirror_mode": {
    "name": "ipython",
    "version": 3
   },
   "file_extension": ".py",
   "mimetype": "text/x-python",
   "name": "python",
   "nbconvert_exporter": "python",
   "pygments_lexer": "ipython3",
   "version": "3.7.7"
  }
 },
 "nbformat": 4,
 "nbformat_minor": 4
}
